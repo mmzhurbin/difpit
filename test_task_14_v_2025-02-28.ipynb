{
 "cells": [
  {
   "cell_type": "markdown",
   "metadata": {
    "id": "sEObhFa2VEHi"
   },
   "source": [
    "# Ссылки и информация"
   ]
  },
  {
   "cell_type": "markdown",
   "metadata": {
    "id": "44K4SWrjK4SX"
   },
   "source": [
    "**Файлы CSV с данными** - [ОТКРЫТЬ](https://drive.google.com/drive/folders/1KJMRb16q7cO8Os8O6t3yzE7kQJTqgO8x?usp=drive_link)\n",
    "\n",
    "> *При работе с Colab важно помнить о том, что доступ к загружаемым файл ограничен по времени. Colab — это временная среда, в которой тайм-аут простоя составляет 90 минут, а абсолютный тайм-аут — 12 часов. Это значит, что отключение среды выполнения происходит в случае 90 минутного простоя или 12-ти часового использования. Такое отключение приводит к потери всех переменных, состояний, установленных пакетов и файлов, вследствие чего при повторном подключении вас ждет встреча с абсолютно новой и чистой средой.*\n",
    "\n",
    "---\n",
    "\n",
    "**Датасет состоит из четырех таблиц:**\n",
    "1.   [DTL_CBOND_EMISSIONS](https://drive.google.com/file/d/1M69cV2BLyqBWovdvyegWaPvzwla6UOC-/view?usp=drive_link) - таблица с основной информацией по облигациям\n",
    "2.   [DTL_CBOND_FLOW](https://drive.google.com/file/d/1VSVFUnAKXgTyxwsKRrAUR9cHjlPF8G5k/view?usp=drive_link) - таблица денежных потоков облигаций\n",
    "3.   [DTL_CBOND_TRADINGS](https://drive.google.com/file/d/1LlSh0regjri1ub9zUbNWGBfYOKtKVglh/view?usp=drive_link) - таблица с результатами торгов\n",
    "4.   DTL_SCENARIO - таблица со значениями КБД ОФЗ с периодами 2,5,10 лет, а также коэфициент изменения спреда Sk\n",
    "---\n",
    "**Методика расчетов** описана - [ТУТ](https://drive.google.com/file/d/17u6SEMZhwMuxR5C3O-8sHKVg5VwS4-Pg/view?usp=drive_link)\n",
    "\n",
    "---"
   ]
  },
  {
   "cell_type": "markdown",
   "metadata": {
    "id": "37rUwPLlbKWQ"
   },
   "source": [
    "# Задание"
   ]
  },
  {
   "cell_type": "markdown",
   "metadata": {
    "id": "1bznBdSSbGfW"
   },
   "source": [
    "1. Расчитать стоимость облигации на 20 кварталов вперед (расчетная дата: **31.03.2024**), согласно указанной методике расчетов.\n",
    "2. Отобразить графически изменение цены закрытия торгов в каждую пятницу за весь имеющийся период.\n",
    "\n",
    "\n",
    "> **Примечания:** Осуществить преобразование данных и подготовку датасетов с помощью SQL-запросов, расчетную часть выполнить с помощью Python.\n",
    "Вычислить z-спред двумя разными способами.\n",
    "\n",
    "---"
   ]
  },
  {
   "cell_type": "markdown",
   "metadata": {},
   "source": [
    "# Дополнительное задание (не обязательно)\n"
   ]
  },
  {
   "cell_type": "markdown",
   "metadata": {},
   "source": [
    "1. Проанализировать ликвидность бумаг. \n",
    "2. Объяснить полученные результаты."
   ]
  },
  {
   "cell_type": "markdown",
   "metadata": {},
   "source": [
    "**Методика** описана - [ТУТ](https://drive.google.com/file/d/1uB5ftyXzcdrWokZUzF8uHNppsqp8T13U/view?usp=drive_link)"
   ]
  }
 ],
 "metadata": {
  "colab": {
   "provenance": [
    {
     "file_id": "1KV2jfIKWbPsDYk8cPlwKmRV-5pNZN2ou",
     "timestamp": 1740742458166
    }
   ]
  },
  "kernelspec": {
   "display_name": "Python 3",
   "name": "python3"
  },
  "language_info": {
   "name": "python"
  }
 },
 "nbformat": 4,
 "nbformat_minor": 0
}
