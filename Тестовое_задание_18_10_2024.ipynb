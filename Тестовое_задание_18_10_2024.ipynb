{
  "nbformat": 4,
  "nbformat_minor": 0,
  "metadata": {
    "colab": {
      "provenance": [],
      "toc_visible": true
    },
    "kernelspec": {
      "name": "python3",
      "display_name": "Python 3"
    },
    "language_info": {
      "name": "python"
    }
  },
  "cells": [
    {
      "cell_type": "markdown",
      "source": [
        "# Ссылки и информация"
      ],
      "metadata": {
        "id": "sEObhFa2VEHi"
      }
    },
    {
      "cell_type": "markdown",
      "source": [
        "**Файл БД SQLite** - [СКАЧАТЬ](https://drive.google.com/file/d/1e8Vfg0UlV-CmdKpoFXTSdYK0MVRBSydu/view?usp=sharing)\n",
        "\n",
        "> *При работе с Colab важно помнить о том, что доступ к загружаемым файл ограничен по времени. Colab — это временная среда, в которой тайм-аут простоя составляет 90 минут, а абсолютный тайм-аут — 12 часов. Это значит, что отключение среды выполнения происходит в случае 90 минутного простоя или 12-ти часового использования. Такое отключение приводит к потери всех переменных, состояний, установленных пакетов и файлов, вследствие чего при повторном подключении вас ждет встреча с абсолютно новой и чистой средой.*\n",
        "\n",
        "> *Скачайте файл на локальный диск, затем загрузите его в корень сессионного хранилища.*\n",
        "---\n",
        "\n",
        "**Датасет состоит из четырех таблиц:**\n",
        "1.   [DTL_CBOND_EMISSIONS](https://drive.google.com/file/d/1Y91IXQBonjznZKg6fc7MnFj3_GrPL9i1/view?usp=sharing) - таблица с основной информацией по облигациям\n",
        "2.   [DTL_CBOND_FLOW](https://drive.google.com/file/d/1C_ufmiQO4LhaffAdCEnsJVnHsAfbWQDr/view?usp=sharing) - таблица денежных потоков облигаций\n",
        "3.   [DTL_CBOND_TRADINGS](https://drive.google.com/file/d/1W-jA63gysYUw-M4egJRVeFjMBTMiTApd/view?usp=sharing) - таблица с результатами торгов\n",
        "4.   DTL_SCENARIO - таблица со значениями КБД ОФЗ с периодами 2,5,10 лет, а также коэфициент изменения спреда Sk\n",
        "---\n",
        "**Методика расчетов** описана - [ТУТ](https://drive.google.com/file/d/169o9F2kSPa-Fe9xZZHbAOwXSL9L7uzzh/view?usp=drive_link)\n"
      ],
      "metadata": {
        "id": "44K4SWrjK4SX"
      }
    },
    {
      "cell_type": "markdown",
      "source": [
        "# Задание"
      ],
      "metadata": {
        "id": "37rUwPLlbKWQ"
      }
    },
    {
      "cell_type": "markdown",
      "source": [
        "1. Расчитать стоимость облигации на 20 кварталов вперед (расчетная дата: **31.03.2024**), согласно указанной методике расчетов.\n",
        "2. Отобразить графически изменение цены закрытия торгов в каждую пятницу за весь имеющийся период.\n",
        "\n",
        "**Примечания:**\n",
        "> Осуществить подготовку данных с помощью SQL-запросов, расчетную часть выполнить с помощью Python.\n",
        "\n",
        "\n",
        "> Вычислить z-спред двумя разными способами\n",
        "\n",
        "\n",
        "\n"
      ],
      "metadata": {
        "id": "1bznBdSSbGfW"
      }
    },
    {
      "cell_type": "code",
      "source": [],
      "metadata": {
        "id": "MhDXW8Z-XzMD"
      },
      "execution_count": null,
      "outputs": []
    }
  ]
}